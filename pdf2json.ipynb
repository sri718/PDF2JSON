{
  "nbformat": 4,
  "nbformat_minor": 0,
  "metadata": {
    "colab": {
      "provenance": [],
      "gpuType": "T4"
    },
    "kernelspec": {
      "name": "python3",
      "display_name": "Python 3"
    },
    "language_info": {
      "name": "python"
    },
    "accelerator": "GPU"
  },
  "cells": [
    {
      "cell_type": "code",
      "execution_count": 43,
      "metadata": {
        "colab": {
          "base_uri": "https://localhost:8080/"
        },
        "id": "nrwDNSOvtho_",
        "outputId": "90082206-05cf-4c2d-e993-e48819f3c1a8"
      },
      "outputs": [
        {
          "output_type": "stream",
          "name": "stdout",
          "text": [
            "Drive already mounted at /content/drive; to attempt to forcibly remount, call drive.mount(\"/content/drive\", force_remount=True).\n"
          ]
        }
      ],
      "source": [
        "from google.colab import drive\n",
        "drive.mount('/content/drive')"
      ]
    },
    {
      "cell_type": "code",
      "source": [
        "#lib_path = \"/content/drive/MyDrive/pdf2json_libs\"\n",
        "\n",
        "#!pip install --target=$lib_path marker-pdf torch\n",
        "#!pip install --target=$lib_path --force-reinstall sympy==1.12\n",
        "#!pip install --target=$lib_path PyMuPDF"
      ],
      "metadata": {
        "id": "vSYjRcx9tv-v"
      },
      "execution_count": 45,
      "outputs": []
    },
    {
      "cell_type": "code",
      "source": [
        "lib_path = \"/content/drive/My Drive/pdf2json_libs\"\n",
        "\n",
        "import sys\n",
        "sys.path.append(lib_path)"
      ],
      "metadata": {
        "id": "7ipeej5GuKmN"
      },
      "execution_count": 46,
      "outputs": []
    },
    {
      "cell_type": "code",
      "source": [
        "from marker.converters.pdf import PdfConverter\n",
        "from marker.models import create_model_dict\n",
        "from marker.output import text_from_rendered\n",
        "\n",
        "converter = PdfConverter(artifact_dict=create_model_dict())\n",
        "\n",
        "file_path = \"/content/drive/MyDrive/finaltest.pdf\"\n",
        "rendered = converter(file_path)\n",
        "text, _, images = text_from_rendered(rendered)"
      ],
      "metadata": {
        "colab": {
          "base_uri": "https://localhost:8080/"
        },
        "id": "e7VwOfrouO2p",
        "outputId": "9e17ce6e-3cc5-402a-ff92-19783a0658a3"
      },
      "execution_count": 47,
      "outputs": [
        {
          "output_type": "stream",
          "name": "stdout",
          "text": [
            "Loaded layout model datalab-to/surya_layout on device cuda with dtype torch.float16\n",
            "Loaded texify model datalab-to/texify on device cuda with dtype torch.float16\n",
            "Loaded recognition model vikp/surya_rec2 on device cuda with dtype torch.float16\n",
            "Loaded table recognition model datalab-to/surya_tablerec on device cuda with dtype torch.float16\n",
            "Loaded detection model vikp/surya_det3 on device cuda with dtype torch.float16\n"
          ]
        },
        {
          "output_type": "stream",
          "name": "stderr",
          "text": [
            "Recognizing layout: 100%|██████████| 2/2 [00:01<00:00,  1.36it/s]\n",
            "Running OCR Error Detection: 100%|██████████| 2/2 [00:00<00:00, 69.86it/s]\n",
            "Detecting bboxes: 0it [00:00, ?it/s]\n",
            "Detecting bboxes: 0it [00:00, ?it/s]\n"
          ]
        }
      ]
    },
    {
      "cell_type": "code",
      "source": [
        "output_md = \"output(md).md\"\n",
        "with open(output_md, \"w\", encoding=\"utf-8\") as md_file:\n",
        "    md_file.write(text)\n",
        "\n",
        "print(f\"Markdown output saved as {output_md}\")"
      ],
      "metadata": {
        "colab": {
          "base_uri": "https://localhost:8080/"
        },
        "id": "bVub1wAlA0mc",
        "outputId": "617105c3-645f-4907-856f-524634036823"
      },
      "execution_count": 48,
      "outputs": [
        {
          "output_type": "stream",
          "name": "stdout",
          "text": [
            "Markdown output saved as output(md).md\n"
          ]
        }
      ]
    },
    {
      "cell_type": "code",
      "source": [
        "def extract_images_from_pdf(pdf_path, output_dir=\"images\"):\n",
        "    import os\n",
        "    os.makedirs(output_dir, exist_ok=True)\n",
        "    doc = fitz.open(pdf_path)\n",
        "    image_paths = []\n",
        "\n",
        "    for page_num in range(len(doc)):\n",
        "        page = doc.load_page(page_num)\n",
        "        images = page.get_images()\n",
        "        for img_index, img in enumerate(images):\n",
        "            xref = img[0]\n",
        "            base_image = doc.extract_image(xref)\n",
        "            image_path = f\"{output_dir}/page_{page_num}_img_{img_index}.png\"\n",
        "            with open(image_path, \"wb\") as f:\n",
        "                f.write(base_image[\"image\"])\n",
        "            image_paths.append(image_path)\n",
        "\n",
        "    return image_paths"
      ],
      "metadata": {
        "id": "1we5g6hg35Sy"
      },
      "execution_count": 49,
      "outputs": []
    },
    {
      "cell_type": "code",
      "source": [
        "import fitz\n",
        "import re\n",
        "import json\n",
        "from datetime import datetime\n",
        "\n",
        "def format_pdf_date(pdf_date):\n",
        "    #Convert 'D:YYYYMMDDHHMMSS' to 'DD-MM-YYYY' format\n",
        "    if pdf_date and pdf_date.startswith(\"D:\"):\n",
        "        try:\n",
        "            return datetime.strptime(pdf_date[2:16], \"%Y%m%d%H%M%S\").strftime(\"%d-%m-%Y\")\n",
        "        except ValueError:\n",
        "            return \"Invalid Date Format\"\n",
        "    return \"Unknown\"\n",
        "\n",
        "def markdown_to_json(md_text,pdf_path):\n",
        "    doc = fitz.open(pdf_path)\n",
        "\n",
        "    md = doc.metadata\n",
        "    metadatad = {\n",
        "        \"No. of Pages\": len(doc),\n",
        "        \"Creation Date\": format_pdf_date(md.get(\"creationDate\", \"\")),\n",
        "        \"Last Modification Date:\": format_pdf_date(md.get(\"modDate\", \"\"))\n",
        "    }\n",
        "\n",
        "    data = {\n",
        "        \"title\": \"\",\n",
        "        \"Authors\": [],\n",
        "        \"metadata\": metadatad,\n",
        "        \"contents\": [],\n",
        "        \"text\": {}\n",
        "    }\n",
        "\n",
        "    for page_num in range(len(doc)):\n",
        "        page = doc.load_page(page_num)\n",
        "        text = page.get_text(\"text\")\n",
        "\n",
        "        if page_num == 0:\n",
        "            lines = text.split('\\n')\n",
        "            data[\"title\"] = lines[0]\n",
        "            auth = re.sub(r\"\\band\\b\", \"\", lines[1])\n",
        "            data[\"Authors\"] = re.findall(r\"[A-Za-z]+(?:\\s[A-Za-z]+)*\", auth)\n",
        "\n",
        "    current_section = None  # Track the current section\n",
        "    img_num = 0\n",
        "    img_paths = extract_images_from_pdf(pdf_path)\n",
        "\n",
        "    lines = md_text.split(\"\\n\")\n",
        "    for i,line in enumerate(lines):\n",
        "        line = line.strip()\n",
        "\n",
        "        if i==0:\n",
        "          continue\n",
        "\n",
        "        if line.startswith(\"# \") or line.startswith(\"## \") or line.startswith(\"### \") or line.startswith(\"#### \"):\n",
        "          if  line.startswith(\"# \"):\n",
        "            current_section = line[2:].strip()\n",
        "          elif line.startswith(\"## \"):\n",
        "            current_section = line[3:].strip()\n",
        "          elif line.startswith(\"### \"):\n",
        "            current_section = line[4:].strip()\n",
        "          elif line.startswith(\"#### \"):\n",
        "            current_section = line[5:].strip()\n",
        "          data[\"contents\"].append(current_section)\n",
        "          data[\"text\"][current_section] = {\"description\": \"\", \"diagram\": \"\"}\n",
        "\n",
        "        # Extract images\n",
        "        elif line.startswith(\"![](\") and \")\" in line:\n",
        "            img_url = re.findall(r'!\\[\\]\\((.*?)\\)', line)\n",
        "            if img_url and current_section:\n",
        "                data[\"text\"][current_section][\"diagram\"] = img_paths[img_num]\n",
        "                img_num += 1\n",
        "\n",
        "        # Extract descriptions (plain text under headings)\n",
        "        elif line and current_section:\n",
        "            if \"description\" in data[\"text\"][current_section]:\n",
        "                data[\"text\"][current_section][\"description\"] += line + \" \"\n",
        "\n",
        "    return json.dumps(data, indent=4)\n",
        "\n",
        "# Example usage\n",
        "markdown_text = text\n",
        "\n",
        "json_output = markdown_to_json(markdown_text,file_path)\n"
      ],
      "metadata": {
        "id": "uX2_zFxQ03tm"
      },
      "execution_count": 51,
      "outputs": []
    },
    {
      "cell_type": "code",
      "source": [
        "output_filename = \"output(json).json\"\n",
        "with open(output_filename, \"w\", encoding=\"utf-8\") as json_file:\n",
        "    json_file.write(json_output)\n",
        "\n",
        "print(f\"JSON output saved as {output_filename}\")"
      ],
      "metadata": {
        "colab": {
          "base_uri": "https://localhost:8080/"
        },
        "id": "wxj8617oLzAB",
        "outputId": "69db8753-81d3-4a67-d805-68445faae221"
      },
      "execution_count": 52,
      "outputs": [
        {
          "output_type": "stream",
          "name": "stdout",
          "text": [
            "JSON output saved as output(json).json\n"
          ]
        }
      ]
    },
    {
      "cell_type": "code",
      "source": [
        "import shutil\n",
        "\n",
        "folder_to_zip = \"/content/images\"\n",
        "zip_filename = \"/content/images.zip\"\n",
        "shutil.make_archive(zip_filename.replace(\".zip\", \"\"), 'zip', folder_to_zip)"
      ],
      "metadata": {
        "colab": {
          "base_uri": "https://localhost:8080/",
          "height": 35
        },
        "id": "EF9a7KzBDNL_",
        "outputId": "3c37b13f-0bac-454b-97d2-b0d6bf5cca79"
      },
      "execution_count": 53,
      "outputs": [
        {
          "output_type": "execute_result",
          "data": {
            "text/plain": [
              "'/content/images.zip'"
            ],
            "application/vnd.google.colaboratory.intrinsic+json": {
              "type": "string"
            }
          },
          "metadata": {},
          "execution_count": 53
        }
      ]
    },
    {
      "cell_type": "code",
      "source": [
        "from google.colab import files\n",
        "import shutil\n",
        "\n",
        "folder_to_zip = \"/content/images\"\n",
        "zip_filename = \"/content/images.zip\"\n",
        "shutil.make_archive(zip_filename.replace(\".zip\", \"\"), 'zip', folder_to_zip)\n",
        "\n",
        "files.download(zip_filename)\n",
        "files.download(\"/content/output(md).md\")\n",
        "files.download(\"/content/output(json).json\")\n",
        "\n",
        "print(\"Files Downloaded Successfully!!!\")"
      ],
      "metadata": {
        "colab": {
          "base_uri": "https://localhost:8080/",
          "height": 34
        },
        "id": "_x_5DTVZAENs",
        "outputId": "8280c0d7-cc3c-4c86-d04f-36a4ba0df54e"
      },
      "execution_count": 55,
      "outputs": [
        {
          "output_type": "display_data",
          "data": {
            "text/plain": [
              "<IPython.core.display.Javascript object>"
            ],
            "application/javascript": [
              "\n",
              "    async function download(id, filename, size) {\n",
              "      if (!google.colab.kernel.accessAllowed) {\n",
              "        return;\n",
              "      }\n",
              "      const div = document.createElement('div');\n",
              "      const label = document.createElement('label');\n",
              "      label.textContent = `Downloading \"${filename}\": `;\n",
              "      div.appendChild(label);\n",
              "      const progress = document.createElement('progress');\n",
              "      progress.max = size;\n",
              "      div.appendChild(progress);\n",
              "      document.body.appendChild(div);\n",
              "\n",
              "      const buffers = [];\n",
              "      let downloaded = 0;\n",
              "\n",
              "      const channel = await google.colab.kernel.comms.open(id);\n",
              "      // Send a message to notify the kernel that we're ready.\n",
              "      channel.send({})\n",
              "\n",
              "      for await (const message of channel.messages) {\n",
              "        // Send a message to notify the kernel that we're ready.\n",
              "        channel.send({})\n",
              "        if (message.buffers) {\n",
              "          for (const buffer of message.buffers) {\n",
              "            buffers.push(buffer);\n",
              "            downloaded += buffer.byteLength;\n",
              "            progress.value = downloaded;\n",
              "          }\n",
              "        }\n",
              "      }\n",
              "      const blob = new Blob(buffers, {type: 'application/binary'});\n",
              "      const a = document.createElement('a');\n",
              "      a.href = window.URL.createObjectURL(blob);\n",
              "      a.download = filename;\n",
              "      div.appendChild(a);\n",
              "      a.click();\n",
              "      div.remove();\n",
              "    }\n",
              "  "
            ]
          },
          "metadata": {}
        },
        {
          "output_type": "display_data",
          "data": {
            "text/plain": [
              "<IPython.core.display.Javascript object>"
            ],
            "application/javascript": [
              "download(\"download_d07c5de7-44a7-468b-aad0-bff324e5ebe5\", \"images.zip\", 12459)"
            ]
          },
          "metadata": {}
        },
        {
          "output_type": "display_data",
          "data": {
            "text/plain": [
              "<IPython.core.display.Javascript object>"
            ],
            "application/javascript": [
              "\n",
              "    async function download(id, filename, size) {\n",
              "      if (!google.colab.kernel.accessAllowed) {\n",
              "        return;\n",
              "      }\n",
              "      const div = document.createElement('div');\n",
              "      const label = document.createElement('label');\n",
              "      label.textContent = `Downloading \"${filename}\": `;\n",
              "      div.appendChild(label);\n",
              "      const progress = document.createElement('progress');\n",
              "      progress.max = size;\n",
              "      div.appendChild(progress);\n",
              "      document.body.appendChild(div);\n",
              "\n",
              "      const buffers = [];\n",
              "      let downloaded = 0;\n",
              "\n",
              "      const channel = await google.colab.kernel.comms.open(id);\n",
              "      // Send a message to notify the kernel that we're ready.\n",
              "      channel.send({})\n",
              "\n",
              "      for await (const message of channel.messages) {\n",
              "        // Send a message to notify the kernel that we're ready.\n",
              "        channel.send({})\n",
              "        if (message.buffers) {\n",
              "          for (const buffer of message.buffers) {\n",
              "            buffers.push(buffer);\n",
              "            downloaded += buffer.byteLength;\n",
              "            progress.value = downloaded;\n",
              "          }\n",
              "        }\n",
              "      }\n",
              "      const blob = new Blob(buffers, {type: 'application/binary'});\n",
              "      const a = document.createElement('a');\n",
              "      a.href = window.URL.createObjectURL(blob);\n",
              "      a.download = filename;\n",
              "      div.appendChild(a);\n",
              "      a.click();\n",
              "      div.remove();\n",
              "    }\n",
              "  "
            ]
          },
          "metadata": {}
        },
        {
          "output_type": "display_data",
          "data": {
            "text/plain": [
              "<IPython.core.display.Javascript object>"
            ],
            "application/javascript": [
              "download(\"download_7cdb36a1-f1f5-44be-aa88-080a9e2b8e4e\", \"output(md).md\", 26409)"
            ]
          },
          "metadata": {}
        },
        {
          "output_type": "display_data",
          "data": {
            "text/plain": [
              "<IPython.core.display.Javascript object>"
            ],
            "application/javascript": [
              "\n",
              "    async function download(id, filename, size) {\n",
              "      if (!google.colab.kernel.accessAllowed) {\n",
              "        return;\n",
              "      }\n",
              "      const div = document.createElement('div');\n",
              "      const label = document.createElement('label');\n",
              "      label.textContent = `Downloading \"${filename}\": `;\n",
              "      div.appendChild(label);\n",
              "      const progress = document.createElement('progress');\n",
              "      progress.max = size;\n",
              "      div.appendChild(progress);\n",
              "      document.body.appendChild(div);\n",
              "\n",
              "      const buffers = [];\n",
              "      let downloaded = 0;\n",
              "\n",
              "      const channel = await google.colab.kernel.comms.open(id);\n",
              "      // Send a message to notify the kernel that we're ready.\n",
              "      channel.send({})\n",
              "\n",
              "      for await (const message of channel.messages) {\n",
              "        // Send a message to notify the kernel that we're ready.\n",
              "        channel.send({})\n",
              "        if (message.buffers) {\n",
              "          for (const buffer of message.buffers) {\n",
              "            buffers.push(buffer);\n",
              "            downloaded += buffer.byteLength;\n",
              "            progress.value = downloaded;\n",
              "          }\n",
              "        }\n",
              "      }\n",
              "      const blob = new Blob(buffers, {type: 'application/binary'});\n",
              "      const a = document.createElement('a');\n",
              "      a.href = window.URL.createObjectURL(blob);\n",
              "      a.download = filename;\n",
              "      div.appendChild(a);\n",
              "      a.click();\n",
              "      div.remove();\n",
              "    }\n",
              "  "
            ]
          },
          "metadata": {}
        },
        {
          "output_type": "display_data",
          "data": {
            "text/plain": [
              "<IPython.core.display.Javascript object>"
            ],
            "application/javascript": [
              "download(\"download_6a7e6569-1761-4eaf-85d3-1a76939699ae\", \"output(json).json\", 27247)"
            ]
          },
          "metadata": {}
        },
        {
          "output_type": "stream",
          "name": "stdout",
          "text": [
            "Files Downloaded Successfully!!!\n"
          ]
        }
      ]
    }
  ]
}
