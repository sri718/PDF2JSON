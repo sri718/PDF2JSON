{
  "cells": [
    {
      "cell_type": "code",
      "execution_count": 2,
      "metadata": {
        "colab": {
          "base_uri": "https://localhost:8080/"
        },
        "id": "nrwDNSOvtho_",
        "outputId": "69b16afb-ba90-486c-e90f-6e2ea51fc09d"
      },
      "outputs": [
        {
          "output_type": "stream",
          "name": "stdout",
          "text": [
            "Mounted at /content/drive\n"
          ]
        }
      ],
      "source": [
        "from google.colab import drive\n",
        "drive.mount('/content/drive')"
      ]
    },
    {
      "cell_type": "code",
      "execution_count": 50,
      "metadata": {
        "id": "vSYjRcx9tv-v"
      },
      "outputs": [],
      "source": [
        "#lib_path = \"/content/drive/MyDrive/pdf2json_libs\"\n",
        "\n",
        "#!pip install --target=$lib_path marker-pdf torch\n",
        "#!pip install --target=$lib_path --force-reinstall sympy==1.12\n",
        "#!pip install --target=$lib_path PyMuPDF"
      ]
    },
    {
      "cell_type": "code",
      "execution_count": 51,
      "metadata": {
        "id": "7ipeej5GuKmN"
      },
      "outputs": [],
      "source": [
        "lib_path = \"/content/drive/My Drive/pdf2json_libs\"\n",
        "\n",
        "import sys\n",
        "sys.path.append(lib_path)"
      ]
    },
    {
      "cell_type": "code",
      "execution_count": 52,
      "metadata": {
        "colab": {
          "base_uri": "https://localhost:8080/"
        },
        "id": "e7VwOfrouO2p",
        "outputId": "50b53c02-414b-4248-8b3e-1033e5709e34"
      },
      "outputs": [
        {
          "output_type": "stream",
          "name": "stdout",
          "text": [
            "Loaded layout model datalab-to/surya_layout on device cpu with dtype torch.float32\n",
            "Loaded texify model datalab-to/texify on device cpu with dtype torch.float32\n",
            "Loaded recognition model vikp/surya_rec2 on device cpu with dtype torch.float32\n",
            "Loaded table recognition model datalab-to/surya_tablerec on device cpu with dtype torch.float32\n",
            "Loaded detection model vikp/surya_det3 on device cpu with dtype torch.float32\n"
          ]
        },
        {
          "output_type": "stream",
          "name": "stderr",
          "text": [
            "Recognizing layout: 100%|██████████| 3/3 [02:06<00:00, 42.04s/it]\n",
            "Running OCR Error Detection: 100%|██████████| 3/3 [00:17<00:00,  5.87s/it]\n",
            "Detecting bboxes: 0it [00:00, ?it/s]\n",
            "Texify inference: 100%|██████████| 3/3 [00:26<00:00,  8.90s/it]\n",
            "Detecting bboxes: 0it [00:00, ?it/s]\n",
            "Recognizing tables: 100%|██████████| 1/1 [00:40<00:00, 40.97s/it]\n"
          ]
        }
      ],
      "source": [
        "from marker.converters.pdf import PdfConverter\n",
        "from marker.models import create_model_dict\n",
        "from marker.output import text_from_rendered\n",
        "\n",
        "# Initialize the converter\n",
        "converter = PdfConverter(artifact_dict=create_model_dict())\n",
        "\n",
        "# Define the file path\n",
        "file_path = \"/content/drive/MyDrive/Attention_all_you_need.pdf\"\n",
        "\n",
        "# Convert the PDF\n",
        "rendered = converter(file_path)\n",
        "\n",
        "text, _, images = text_from_rendered(rendered)\n"
      ]
    },
    {
      "cell_type": "code",
      "source": [
        "import os\n",
        "\n",
        "# Create the 'images' folder if it doesn't exist\n",
        "images_folder = \"images\"\n",
        "os.makedirs(images_folder, exist_ok=True)\n",
        "\n",
        "# Save each image in the dictionary\n",
        "img_paths=[]\n",
        "for filename, img in images.items():\n",
        "    img_path = os.path.join(images_folder, filename)\n",
        "    img_paths.append(img_path)\n",
        "    img.save(img_path)\n",
        "    print(f\"Saved: {img_path}\")\n"
      ],
      "metadata": {
        "colab": {
          "base_uri": "https://localhost:8080/"
        },
        "id": "ii2xPHKQfWsY",
        "outputId": "cae429dc-a343-419a-b90e-f6db6e4e8a5b"
      },
      "execution_count": 53,
      "outputs": [
        {
          "output_type": "stream",
          "name": "stdout",
          "text": [
            "Saved: images/_page_2_Figure_0.jpeg\n",
            "Saved: images/_page_3_Figure_0.jpeg\n",
            "Saved: images/_page_12_Figure_1.jpeg\n",
            "Saved: images/_page_13_Figure_0.jpeg\n",
            "Saved: images/_page_14_Figure_0.jpeg\n"
          ]
        }
      ]
    },
    {
      "cell_type": "code",
      "source": [
        "import re\n",
        "\n",
        "def extract_tables_and_text(text):\n",
        "    table_pattern = r'(\\|.*\\|[\\r\\n]+(\\|[-:]+[-:|]*\\|[\\r\\n]+)+(\\|.*\\|[\\r\\n]+)+)'\n",
        "    matches = re.findall(table_pattern, text)\n",
        "\n",
        "    tables = []\n",
        "\n",
        "    for match in matches:\n",
        "        table_text = match[0].strip()\n",
        "        rows = table_text.split('\\n')\n",
        "        header = [col.strip() for col in rows[0].split('|') if col.strip()]\n",
        "        structured_table = []\n",
        "\n",
        "        for row in rows[2:]:  # Skipping separator row\n",
        "            values = [col.strip() for col in row.split('|') if col.strip()]\n",
        "            structured_table.append(dict(zip(header, values)))\n",
        "\n",
        "        tables.append(structured_table)\n",
        "        text = text.replace(table_text, \"\")\n",
        "\n",
        "    return tables, text.strip()  # Returns tables as a list of dictionaries and remaining text as a string\n",
        "\n"
      ],
      "metadata": {
        "id": "BYROLFdvcRBu"
      },
      "execution_count": 54,
      "outputs": []
    },
    {
      "cell_type": "code",
      "execution_count": 60,
      "metadata": {
        "colab": {
          "base_uri": "https://localhost:8080/"
        },
        "id": "bVub1wAlA0mc",
        "outputId": "24ca2e0f-b073-40f2-ea82-332db36885e1"
      },
      "outputs": [
        {
          "output_type": "stream",
          "name": "stdout",
          "text": [
            "Markdown output saved as output(md).md\n"
          ]
        }
      ],
      "source": [
        "output_md = \"output(md).md\"\n",
        "z = text\n",
        "z = re.sub(r'<span id=\"page-\\d+-\\d+\"></span>', '',z)\n",
        "with open(output_md, \"w\", encoding=\"utf-8\") as md_file:\n",
        "    md_file.write(z)\n",
        "\n",
        "print(f\"Markdown output saved as {output_md}\")"
      ]
    },
    {
      "cell_type": "code",
      "execution_count": 56,
      "metadata": {
        "id": "f-fJJ8aStW9O"
      },
      "outputs": [],
      "source": [
        "import fitz\n",
        "import re\n",
        "import json\n",
        "from datetime import datetime\n",
        "\n",
        "def extract_title(text):\n",
        "    title = re.search(r'^(#{1,4})\\s+(.*)', text, re.MULTILINE)\n",
        "    return title.group(2) if title else None\n",
        "\n",
        "def extract_authors(text):\n",
        "    headings = list(re.finditer(r'(?m)^#{1,4} ', text))\n",
        "\n",
        "    if len(headings) < 2:\n",
        "        return []\n",
        "\n",
        "    start, end = headings[0].end(), headings[1].start()\n",
        "    content = text[start:end]\n",
        "\n",
        "    potential_names = re.findall(r'\\b[A-Z][a-z]+(?:\\s[A-Z]\\.)?(?:\\s[A-Z][a-z]+)*\\b', content)\n",
        "\n",
        "    blacklist = {\n",
        "    \"Google\", \"Brain\", \"Research\", \"University\", \"Department\", \"Institute\", \"Laboratory\", \"Center\",\n",
        "    \"School\", \"College\", \"Academy\", \"Faculty\", \"Division\", \"Group\", \"Project\", \"Consortium\",\n",
        "    \"Organization\", \"Corporation\", \"Society\", \"Institute\", \"Foundation\", \"Company\", \"Inc\", \"Ltd\",\n",
        "    \"Shanghai\", \"China\", \"Toronto\", \"MIT\", \"Harvard\", \"Stanford\", \"Oxford\", \"Cambridge\", \"Berkeley\",\n",
        "    \"Technology\", \"Science\", \"Engineering\", \"Automation\", \"Computing\", \"Data\", \"Intelligence\", \"AI\",\n",
        "    \"Physics\", \"Mathematics\", \"Statistics\", \"Biology\", \"Neuroscience\", \"Cognitive\", \"Medical\", \"Health\",\n",
        "    \"Economics\", \"Management\", \"Humanities\", \"Social\", \"Psychology\", \"Behavioral\", \"Information\",\n",
        "    \"Communication\", \"Robotics\", \"Electronics\", \"Systems\", \"Networking\", \"Security\", \"Cryptography\",\n",
        "    \"Applied\", \"Artificial\", \"Deep\", \"Vision\", \"Natural\", \"Language\", \"Processing\", \"Cybernetics\",\n",
        "    \"Computational\", \"Quantum\", \"Nanotechnology\", \"Bionics\", \"Genomics\", \"Bioinformatics\", \"Medicine\"\n",
        "    }\n",
        "\n",
        "    names = [name for name in potential_names if not any(word in blacklist for word in name.split())]\n",
        "\n",
        "    return names[1:]\n",
        "\n",
        "\n",
        "def format_pdf_date(pdf_date):\n",
        "    #Convert 'D:YYYYMMDDHHMMSS' to 'DD-MM-YYYY' format\n",
        "    if pdf_date and pdf_date.startswith(\"D:\"):\n",
        "        try:\n",
        "            return datetime.strptime(pdf_date[2:16], \"%Y%m%d%H%M%S\").strftime(\"%d-%m-%Y\")\n",
        "        except ValueError:\n",
        "            return \"Invalid Date Format\"\n",
        "    return \"Unknown\"\n",
        "\n",
        "def markdown_to_json(tables,text,pdf_path):\n",
        "    doc = fitz.open(pdf_path)\n",
        "\n",
        "    md = doc.metadata\n",
        "    metadatad = {\n",
        "        \"No. of Pages\": len(doc),\n",
        "        \"Creation Date\": format_pdf_date(md.get(\"creationDate\", \"\")),\n",
        "        \"Last Modification Date:\": format_pdf_date(md.get(\"modDate\", \"\"))\n",
        "    }\n",
        "\n",
        "\n",
        "\n",
        "    data = {\n",
        "        \"title\": extract_title(text),\n",
        "        \"Authors\": extract_authors(text),\n",
        "        \"metadata\": metadatad,\n",
        "        \"contents\": [],\n",
        "        \"text\": {},\n",
        "        \"tables\": tables\n",
        "\n",
        "    }\n",
        "\n",
        "    current_section = None  # Track the current section\n",
        "    img_num = 0\n",
        "\n",
        "    lines = text.split(\"\\n\")\n",
        "    first_heading_skipped = False  # Flag to skip first heading\n",
        "\n",
        "\n",
        "    for line in lines:\n",
        "      line = line.strip()\n",
        "      line = re.sub(r'<span id=\"page-\\d+-\\d+\"></span>', '', line)\n",
        "\n",
        "    # Detect headings dynamically\n",
        "      headings = re.match(r'^(#{1,4})\\s+(.*)', line)\n",
        "      if headings:\n",
        "        if not first_heading_skipped:\n",
        "            first_heading_skipped = True  # Skip the first heading\n",
        "            continue\n",
        "\n",
        "        current_section = headings.group(2).strip()  # Extract heading text\n",
        "        data[\"contents\"].append(current_section)\n",
        "        data[\"text\"][current_section] = {\"description\": \"\", \"diagrams\": []}\n",
        "\n",
        "\n",
        "        # Extract images\n",
        "      elif line.startswith(\"![](\") and \")\" in line:\n",
        "          img_url = re.findall(r'!\\[\\]\\((.*?)\\)', line)\n",
        "          if img_url and current_section:\n",
        "              data[\"text\"][current_section][\"diagrams\"].append(img_paths[img_num])\n",
        "              img_num += 1\n",
        "\n",
        "        # Extract descriptions (plain text under headings)\n",
        "      elif line and current_section:\n",
        "          if \"description\" in data[\"text\"][current_section]:\n",
        "              data[\"text\"][current_section][\"description\"] += line + \" \"\n",
        "\n",
        "    return json.dumps(data, indent=4)\n",
        "\n",
        "a = text\n",
        "tables, uptext = extract_tables_and_text(a)\n",
        "json_output = markdown_to_json(tables,uptext,file_path)"
      ]
    },
    {
      "cell_type": "code",
      "execution_count": 57,
      "metadata": {
        "colab": {
          "base_uri": "https://localhost:8080/"
        },
        "id": "wxj8617oLzAB",
        "outputId": "d4ccc161-b578-4af8-cb91-1544c1b5e838"
      },
      "outputs": [
        {
          "output_type": "stream",
          "name": "stdout",
          "text": [
            "JSON output saved as output(json).json\n"
          ]
        }
      ],
      "source": [
        "output_filename = \"output(json).json\"\n",
        "with open(output_filename, \"w\", encoding=\"utf-8\") as json_file:\n",
        "    json_file.write(json_output)\n",
        "\n",
        "print(f\"JSON output saved as {output_filename}\")"
      ]
    },
    {
      "cell_type": "code",
      "execution_count": 58,
      "metadata": {
        "colab": {
          "base_uri": "https://localhost:8080/",
          "height": 35
        },
        "id": "EF9a7KzBDNL_",
        "outputId": "af85f1ce-20dc-417e-8c3f-8fa0930ab089"
      },
      "outputs": [
        {
          "output_type": "execute_result",
          "data": {
            "text/plain": [
              "'/content/images.zip'"
            ],
            "application/vnd.google.colaboratory.intrinsic+json": {
              "type": "string"
            }
          },
          "metadata": {},
          "execution_count": 58
        }
      ],
      "source": [
        "import shutil\n",
        "\n",
        "folder_to_zip = \"/content/images\"\n",
        "zip_filename = \"/content/images.zip\"\n",
        "shutil.make_archive(zip_filename.replace(\".zip\", \"\"), 'zip', folder_to_zip)"
      ]
    },
    {
      "cell_type": "code",
      "execution_count": 59,
      "metadata": {
        "colab": {
          "base_uri": "https://localhost:8080/",
          "height": 34
        },
        "id": "_x_5DTVZAENs",
        "outputId": "378c5947-490f-4fcc-b559-3e3f31fb8031"
      },
      "outputs": [
        {
          "output_type": "display_data",
          "data": {
            "text/plain": [
              "<IPython.core.display.Javascript object>"
            ],
            "application/javascript": [
              "\n",
              "    async function download(id, filename, size) {\n",
              "      if (!google.colab.kernel.accessAllowed) {\n",
              "        return;\n",
              "      }\n",
              "      const div = document.createElement('div');\n",
              "      const label = document.createElement('label');\n",
              "      label.textContent = `Downloading \"${filename}\": `;\n",
              "      div.appendChild(label);\n",
              "      const progress = document.createElement('progress');\n",
              "      progress.max = size;\n",
              "      div.appendChild(progress);\n",
              "      document.body.appendChild(div);\n",
              "\n",
              "      const buffers = [];\n",
              "      let downloaded = 0;\n",
              "\n",
              "      const channel = await google.colab.kernel.comms.open(id);\n",
              "      // Send a message to notify the kernel that we're ready.\n",
              "      channel.send({})\n",
              "\n",
              "      for await (const message of channel.messages) {\n",
              "        // Send a message to notify the kernel that we're ready.\n",
              "        channel.send({})\n",
              "        if (message.buffers) {\n",
              "          for (const buffer of message.buffers) {\n",
              "            buffers.push(buffer);\n",
              "            downloaded += buffer.byteLength;\n",
              "            progress.value = downloaded;\n",
              "          }\n",
              "        }\n",
              "      }\n",
              "      const blob = new Blob(buffers, {type: 'application/binary'});\n",
              "      const a = document.createElement('a');\n",
              "      a.href = window.URL.createObjectURL(blob);\n",
              "      a.download = filename;\n",
              "      div.appendChild(a);\n",
              "      a.click();\n",
              "      div.remove();\n",
              "    }\n",
              "  "
            ]
          },
          "metadata": {}
        },
        {
          "output_type": "display_data",
          "data": {
            "text/plain": [
              "<IPython.core.display.Javascript object>"
            ],
            "application/javascript": [
              "download(\"download_057ef78f-69b7-4cda-8054-a4a99772c9fa\", \"images.zip\", 345325)"
            ]
          },
          "metadata": {}
        },
        {
          "output_type": "display_data",
          "data": {
            "text/plain": [
              "<IPython.core.display.Javascript object>"
            ],
            "application/javascript": [
              "\n",
              "    async function download(id, filename, size) {\n",
              "      if (!google.colab.kernel.accessAllowed) {\n",
              "        return;\n",
              "      }\n",
              "      const div = document.createElement('div');\n",
              "      const label = document.createElement('label');\n",
              "      label.textContent = `Downloading \"${filename}\": `;\n",
              "      div.appendChild(label);\n",
              "      const progress = document.createElement('progress');\n",
              "      progress.max = size;\n",
              "      div.appendChild(progress);\n",
              "      document.body.appendChild(div);\n",
              "\n",
              "      const buffers = [];\n",
              "      let downloaded = 0;\n",
              "\n",
              "      const channel = await google.colab.kernel.comms.open(id);\n",
              "      // Send a message to notify the kernel that we're ready.\n",
              "      channel.send({})\n",
              "\n",
              "      for await (const message of channel.messages) {\n",
              "        // Send a message to notify the kernel that we're ready.\n",
              "        channel.send({})\n",
              "        if (message.buffers) {\n",
              "          for (const buffer of message.buffers) {\n",
              "            buffers.push(buffer);\n",
              "            downloaded += buffer.byteLength;\n",
              "            progress.value = downloaded;\n",
              "          }\n",
              "        }\n",
              "      }\n",
              "      const blob = new Blob(buffers, {type: 'application/binary'});\n",
              "      const a = document.createElement('a');\n",
              "      a.href = window.URL.createObjectURL(blob);\n",
              "      a.download = filename;\n",
              "      div.appendChild(a);\n",
              "      a.click();\n",
              "      div.remove();\n",
              "    }\n",
              "  "
            ]
          },
          "metadata": {}
        },
        {
          "output_type": "display_data",
          "data": {
            "text/plain": [
              "<IPython.core.display.Javascript object>"
            ],
            "application/javascript": [
              "download(\"download_db972f53-9c5d-492c-80a1-1f40a5f44842\", \"output(md).md\", 46160)"
            ]
          },
          "metadata": {}
        },
        {
          "output_type": "display_data",
          "data": {
            "text/plain": [
              "<IPython.core.display.Javascript object>"
            ],
            "application/javascript": [
              "\n",
              "    async function download(id, filename, size) {\n",
              "      if (!google.colab.kernel.accessAllowed) {\n",
              "        return;\n",
              "      }\n",
              "      const div = document.createElement('div');\n",
              "      const label = document.createElement('label');\n",
              "      label.textContent = `Downloading \"${filename}\": `;\n",
              "      div.appendChild(label);\n",
              "      const progress = document.createElement('progress');\n",
              "      progress.max = size;\n",
              "      div.appendChild(progress);\n",
              "      document.body.appendChild(div);\n",
              "\n",
              "      const buffers = [];\n",
              "      let downloaded = 0;\n",
              "\n",
              "      const channel = await google.colab.kernel.comms.open(id);\n",
              "      // Send a message to notify the kernel that we're ready.\n",
              "      channel.send({})\n",
              "\n",
              "      for await (const message of channel.messages) {\n",
              "        // Send a message to notify the kernel that we're ready.\n",
              "        channel.send({})\n",
              "        if (message.buffers) {\n",
              "          for (const buffer of message.buffers) {\n",
              "            buffers.push(buffer);\n",
              "            downloaded += buffer.byteLength;\n",
              "            progress.value = downloaded;\n",
              "          }\n",
              "        }\n",
              "      }\n",
              "      const blob = new Blob(buffers, {type: 'application/binary'});\n",
              "      const a = document.createElement('a');\n",
              "      a.href = window.URL.createObjectURL(blob);\n",
              "      a.download = filename;\n",
              "      div.appendChild(a);\n",
              "      a.click();\n",
              "      div.remove();\n",
              "    }\n",
              "  "
            ]
          },
          "metadata": {}
        },
        {
          "output_type": "display_data",
          "data": {
            "text/plain": [
              "<IPython.core.display.Javascript object>"
            ],
            "application/javascript": [
              "download(\"download_6ed6c892-f0f9-4d0d-8a37-c3a7a4ac34b1\", \"output(json).json\", 49945)"
            ]
          },
          "metadata": {}
        },
        {
          "output_type": "stream",
          "name": "stdout",
          "text": [
            "Files Downloaded Successfully!!!\n"
          ]
        }
      ],
      "source": [
        "from google.colab import files\n",
        "import shutil\n",
        "\n",
        "folder_to_zip = \"/content/images\"\n",
        "zip_filename = \"/content/images.zip\"\n",
        "shutil.make_archive(zip_filename.replace(\".zip\", \"\"), 'zip', folder_to_zip)\n",
        "\n",
        "files.download(zip_filename)\n",
        "files.download(\"/content/output(md).md\")\n",
        "files.download(\"/content/output(json).json\")\n",
        "\n",
        "print(\"Files Downloaded Successfully!!!\")"
      ]
    }
  ],
  "metadata": {
    "accelerator": "GPU",
    "colab": {
      "gpuType": "T4",
      "provenance": []
    },
    "kernelspec": {
      "display_name": "Python 3",
      "name": "python3"
    },
    "language_info": {
      "name": "python"
    }
  },
  "nbformat": 4,
  "nbformat_minor": 0
}